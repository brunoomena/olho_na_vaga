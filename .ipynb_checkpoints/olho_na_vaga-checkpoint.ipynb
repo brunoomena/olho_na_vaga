{
 "cells": [
  {
   "cell_type": "markdown",
   "metadata": {},
   "source": [
    "# To do\n",
    "\n",
    "Na seção \"BOW\" o código conta qualquer valor que seja encontrado dentro da vaga que tenha o nome da competência filtrada, então, quando for pesquisada a competência \"java\", por exemplo, caso na descrição da vaga conste \"javascript\", o código irá acusar como True a busca para \"java\", pois o mesmo encontra qualquer valor. Isso é um problema para procurar pela linguagem de programação \"r\" pois será sempre acusado como True em 100% das vagas"
   ]
  },
  {
   "cell_type": "markdown",
   "metadata": {},
   "source": [
    "# Importando pacotes"
   ]
  },
  {
   "cell_type": "code",
   "execution_count": 1,
   "metadata": {},
   "outputs": [],
   "source": [
    "#pip install https://github.com/explosion/spacy-models/releases/download/pt_core_news_sm-2.2.5/pt_core_news_sm-2.2.5.tar.gz#egg=pt_core_news_sm==2.2.5 --no-deps\n",
    "#! python -m spacy download pt\n",
    "#!pip install spacy\n",
    "#!pip install spacy download pt_core_news_sm\n",
    "#!python -m spacy download pt_core_web_sm"
   ]
  },
  {
   "cell_type": "code",
   "execution_count": 2,
   "metadata": {},
   "outputs": [],
   "source": [
    "from bs4 import BeautifulSoup\n",
    "import requests\n",
    "import pandas as pd\n",
    "import spacy\n",
    "import pt_core_news_sm\n",
    "import string\n",
    "from nltk import ngrams\n",
    "from collections import Counter\n",
    "from operator import itemgetter\n",
    "from unidecode import unidecode\n",
    "import numpy as np\n",
    "import matplotlib.pyplot as plt"
   ]
  },
  {
   "cell_type": "markdown",
   "metadata": {},
   "source": [
    "# Busca"
   ]
  },
  {
   "cell_type": "code",
   "execution_count": 3,
   "metadata": {},
   "outputs": [],
   "source": [
    "search = 'Cientista de dados'"
   ]
  },
  {
   "cell_type": "code",
   "execution_count": 4,
   "metadata": {},
   "outputs": [],
   "source": [
    "search = search.replace(' ','-')"
   ]
  },
  {
   "cell_type": "markdown",
   "metadata": {},
   "source": [
    "# Definindo URL e parser"
   ]
  },
  {
   "cell_type": "code",
   "execution_count": 5,
   "metadata": {},
   "outputs": [],
   "source": [
    "page = requests.get('https://www.vagas.com.br/vagas-de-'+search)"
   ]
  },
  {
   "cell_type": "code",
   "execution_count": 6,
   "metadata": {},
   "outputs": [],
   "source": [
    "soup = BeautifulSoup(page.content, 'html.parser')"
   ]
  },
  {
   "cell_type": "markdown",
   "metadata": {},
   "source": [
    "# Encontrando onde estão os links para as vagas "
   ]
  },
  {
   "cell_type": "code",
   "execution_count": 7,
   "metadata": {},
   "outputs": [],
   "source": [
    "vagas = soup.find_all(class_ = 'link-detalhes-vaga')"
   ]
  },
  {
   "cell_type": "code",
   "execution_count": 8,
   "metadata": {},
   "outputs": [],
   "source": [
    "#Armazenando links em uma lista\n",
    "lista = []\n",
    "for i in vagas:\n",
    "    lista.append(i.get('href'))"
   ]
  },
  {
   "cell_type": "code",
   "execution_count": 9,
   "metadata": {},
   "outputs": [],
   "source": [
    "#Testanto hiperlinks da lista\n",
    "lista1 = []\n",
    "for i in lista:\n",
    "    lista1.append('https://www.vagas.com.br/'+i)"
   ]
  },
  {
   "cell_type": "markdown",
   "metadata": {},
   "source": [
    "# Definindo loop"
   ]
  },
  {
   "cell_type": "code",
   "execution_count": 10,
   "metadata": {},
   "outputs": [],
   "source": [
    "df = pd.DataFrame()\n",
    "comp = []\n",
    "for i in lista1:\n",
    "    page = requests.get(i)\n",
    "    soup = BeautifulSoup(page.content, 'html.parser')\n",
    "    \n",
    "    competencias = soup.find(class_= 'texto')\n",
    "    competencias_ = competencias.get_text(strip = True)\n",
    "    \n",
    "    comp.append(competencias_)\n",
    "    \n",
    "df['Competencias'] = comp"
   ]
  },
  {
   "cell_type": "code",
   "execution_count": 11,
   "metadata": {},
   "outputs": [],
   "source": [
    "#Removendo acentos e pontuação das colunas \n",
    "for i in range(len(df.Competencias)):\n",
    "    df.Competencias[i] = unidecode(df.Competencias[i])\n",
    "    df.Competencias[i] = df.Competencias[i].replace(';',' ')\n",
    "    df.Competencias[i] = df.Competencias[i].replace('.',' ')"
   ]
  },
  {
   "cell_type": "markdown",
   "metadata": {},
   "source": [
    "# Instanciando NLP"
   ]
  },
  {
   "cell_type": "code",
   "execution_count": 12,
   "metadata": {},
   "outputs": [],
   "source": [
    "#Instanciando NLP\n",
    "\n",
    "nlp = spacy.load('pt_core_news_sm')"
   ]
  },
  {
   "cell_type": "code",
   "execution_count": 13,
   "metadata": {},
   "outputs": [],
   "source": [
    "#Definindo puntuações a serem removidas\n",
    "punctuations = string.punctuation"
   ]
  },
  {
   "cell_type": "code",
   "execution_count": 14,
   "metadata": {},
   "outputs": [],
   "source": [
    "#Função que substitui palavras ou termos que são sinonimos\n",
    "def junta_sinonimo(x,y):\n",
    "  df['Competencias'] = df['Competencias'].str.replace(x,y)"
   ]
  },
  {
   "cell_type": "markdown",
   "metadata": {},
   "source": [
    "# Tratamento de dados unigrams"
   ]
  },
  {
   "cell_type": "code",
   "execution_count": 15,
   "metadata": {},
   "outputs": [],
   "source": [
    "junta_sinonimo('estatisticas','estatistica')"
   ]
  },
  {
   "cell_type": "code",
   "execution_count": 16,
   "metadata": {},
   "outputs": [],
   "source": [
    "deletar_unigram = ['by', 'r','medica','ti','sobre', 'de','e','em','a','com','o','da', 'ou', 'que', 'dos', 'como', 'os', 'ou', 'para', 'do', 'na', 'and',\\\n",
    "                  'no', 'uma', 'as', 'por', 'mais', 'um', 'areas', 'no', 'conhecimento', 'nos', 'voce','dados','para', 'analisar','que','learning','do',\\\n",
    "                   'machine','que','experiencia','data','modelos','analise','ferramentas','desenvolvimento','etc','tecnicas','programacao','conhecimentos','formacao','modelagem',\\\n",
    "                  'matematica', '\\r\\n','big','linguagens','solucoes','computacao','science','banco','area','projetos','negocio','algoritmos','das','to','sistemas','desenvolver',\\\n",
    "                  'problemas','desejavel','nao','engenharia','processos','superior','analises','ciencia','requisitos','insights','clientes','uso','bancos','tecnologia','ter',\\\n",
    "                  'empresa','criacao','negocios','avancado','of','capacidade','utilizando','the','ser','se','sao','trabalhar','software','linguagem','outros','servicos','inteligencia',\\\n",
    "                  'in','resultados','estruturados','time','power', 'oportunidades','atividades','trabalho','principais','identificar','tempo']"
   ]
  },
  {
   "cell_type": "code",
   "execution_count": 17,
   "metadata": {},
   "outputs": [],
   "source": [
    "stopwords = ['de' ,'a' ,'o' ,'que' ,'e' ,'do' ,'da' ,'em' ,'um' ,'para' ,'é' ,'com' ,'não' ,'uma' ,'os' ,'no' ,'se' ,'na' ,'por' ,'mais' ,'as' ,'dos' ,'como' ,'mas' ,'foi' ,'ao' ,'ele' ,'das' ,'tem' ,'à' ,'seu' ,'sua' ,'ou' ,'ser' ,'quando' ,'muito' ,'há' ,'nos' ,'já' ,'está' ,'eu' ,'também' ,'só' ,'pelo' ,'pela' ,'até' ,'isso' ,'ela' ,'entre' ,'era' ,'depois' ,'sem' ,'mesmo' ,'aos' ,'ter' ,'seus' ,'quem' ,'nas' ,'me' ,'esse' ,'eles' ,'estão' ,'você' ,'tinha' ,'foram' ,'essa' ,'num' ,'nem' ,'suas' ,'meu' ,'às' ,'minha' ,'têm' ,'numa' ,'pelos' ,'elas' ,'havia' ,'seja' ,'qual' ,'será' ,'nós' ,'tenho' ,'lhe' ,'deles' ,'essas' ,'esses' ,'pelas' ,'este' ,'fosse' ,'dele' ,'tu' ,'te' ,'vocês' ,'vos' ,'lhes' ,'meus' ,'minhas','teu' ,'tua','teus','tuas','nosso' ,'nossa','nossos','nossas','dela' ,'delas' ,'esta' ,'estes' ,'estas' ,'aquele' ,'aquela' ,'aqueles' ,'aquelas' ,'isto' ,'aquilo' ,'estou','está','estamos','estão','estive','esteve','estivemos','estiveram','estava','estávamos','estavam','estivera','estivéramos','esteja','estejamos','estejam','estivesse','estivéssemos','estivessem','estiver','estivermos','estiverem','hei','há','havemos','hão','houve','houvemos','houveram','houvera','houvéramos','haja','hajamos','hajam','houvesse','houvéssemos','houvessem','houver','houvermos','houverem','houverei','houverá','houveremos','houverão','houveria','houveríamos','houveriam','sou','somos','são','era','éramos','eram','fui','foi','fomos','foram','fora','fôramos','seja','sejamos','sejam','fosse','fôssemos','fossem','for','formos','forem','serei','será','seremos','serão','seria','seríamos','seriam','tenho','tem','temos','tém','tinha','tínhamos','tinham','tive','teve','tivemos','tiveram','tivera','tivéramos','tenha','tenhamos','tenham','tivesse','tivéssemos','tivessem','tiver','tivermos','tiverem','terei','terá','teremos','terão','teria','teríamos','teriam']"
   ]
  },
  {
   "cell_type": "code",
   "execution_count": 18,
   "metadata": {},
   "outputs": [],
   "source": [
    "#Tokenização\n",
    "tokenization_unigram = []\n",
    "for i in df.Competencias:\n",
    "    \n",
    "    #Instanciando NLP\n",
    "    doc = nlp(i)\n",
    "    \n",
    "    #Selecionando somente Adjetivos e nomes próprios\n",
    "    tokens = [token for token in doc if token.pos_ == 'ADJ' or token.pos_ == 'PROPN']\n",
    "    \n",
    "    #Conversão de Tokens para string\n",
    "    tokens = [token.orth_ for token in tokens]\n",
    "       \n",
    "    #To lower\n",
    "    tokens = [(token.lower()) for token in tokens]\n",
    "    \n",
    "    #Removendo itens da lista de removação manual\n",
    "    tokens = [token for token in tokens if (token not in deletar_unigram)]\n",
    "    \n",
    "    #Removendo stopwords e punctuations\n",
    "    tokens = [token for token in tokens if (token not in stopwords and token not in punctuations)]  \n",
    "    \n",
    "    tokenization_unigram += (tokens)"
   ]
  },
  {
   "cell_type": "code",
   "execution_count": 19,
   "metadata": {},
   "outputs": [],
   "source": [
    "ngram_counts1 = Counter(ngrams(tokenization_unigram, 1))"
   ]
  },
  {
   "cell_type": "markdown",
   "metadata": {},
   "source": [
    "# Tratamento de bigrams"
   ]
  },
  {
   "cell_type": "code",
   "execution_count": 20,
   "metadata": {},
   "outputs": [],
   "source": [
    "#deletar_bigram = ['de','com', 'e', 'em', 'banco', 'a', 'o', 'na','para', 'da','python','\\r\\n', 'dos','science','dados','programacao', 'ou','areas','experiencia',\\\n",
    "#                 'os','resolver','computacao','hadoop','matematica', 'ensino', 'tecnicas', 'tais','como','conhecimento','grandes','por','as']"
   ]
  },
  {
   "cell_type": "code",
   "execution_count": 21,
   "metadata": {},
   "outputs": [],
   "source": [
    "##Definindo sinonimos e termos a deletar\n",
    "#junta_sinonimo('superior completo','formacao superior')\n",
    "#junta_sinonimo('ensino superior','formacao superior')\n",
    "#junta_sinonimo('aprendizado de maquina', 'machine learning')"
   ]
  },
  {
   "cell_type": "code",
   "execution_count": 22,
   "metadata": {},
   "outputs": [],
   "source": [
    "##Tokenização\n",
    "#tokenization_bigram = []\n",
    "#for i in df.Competencias:\n",
    "#    doc = nlp(i)\n",
    "#    tokens = [token.orth_ for token in doc]\n",
    "#    tokens = [token for token in tokens if (token not in punctuations and token not in deletar_bigram)]\n",
    "#    tokenization_bigram += (tokens)"
   ]
  },
  {
   "cell_type": "code",
   "execution_count": 23,
   "metadata": {},
   "outputs": [],
   "source": [
    "#ngram_counts2 = Counter(ngrams(tokenization_bigram, 2))"
   ]
  },
  {
   "cell_type": "code",
   "execution_count": 24,
   "metadata": {},
   "outputs": [],
   "source": [
    "#ngram_counts2.most_common(10)"
   ]
  },
  {
   "cell_type": "markdown",
   "metadata": {},
   "source": [
    "# Tratamento trigrams"
   ]
  },
  {
   "cell_type": "code",
   "execution_count": 25,
   "metadata": {},
   "outputs": [],
   "source": [
    "#deletar_trigrams = ['e','dados']"
   ]
  },
  {
   "cell_type": "code",
   "execution_count": 26,
   "metadata": {},
   "outputs": [],
   "source": [
    "##Tokenização\n",
    "#tokenization_trigram = []\n",
    "#for i in df.Competencias:\n",
    "#    doc = nlp(i)\n",
    "#    tokens = [token.orth_ for token in doc]\n",
    "#    tokens = [token for token in tokens if (token not in punctuations and token not in deletar_trigrams)]\n",
    "#    tokenization_trigram += (tokens)"
   ]
  },
  {
   "cell_type": "code",
   "execution_count": 27,
   "metadata": {},
   "outputs": [],
   "source": [
    "#ngram_counts3 = Counter(ngrams(tokenization_trigram, 3))"
   ]
  },
  {
   "cell_type": "code",
   "execution_count": 28,
   "metadata": {},
   "outputs": [],
   "source": [
    "#ngram_counts3.most_common(10)"
   ]
  },
  {
   "cell_type": "markdown",
   "metadata": {},
   "source": [
    "# Concatenando resultados e gerando lista dos mais citados"
   ]
  },
  {
   "cell_type": "code",
   "execution_count": 29,
   "metadata": {},
   "outputs": [],
   "source": [
    "ngram_counts = ngram_counts1.most_common(10) #+ ngram_counts2.most_common(10) + ngram_counts3.most_common(10)"
   ]
  },
  {
   "cell_type": "code",
   "execution_count": 30,
   "metadata": {},
   "outputs": [
    {
     "name": "stdout",
     "output_type": "stream",
     "text": [
      "[(('python',), 9), (('estatistica',), 7), (('analytics',), 7), (('relacional',), 7), (('bi',), 6), (('sintaxe',), 6), (('sql',), 6), (('dominio',), 6), (('marketing',), 6), (('tableau',), 5)]\n"
     ]
    }
   ],
   "source": [
    "ngram_counts = sorted(ngram_counts, key=itemgetter(1),reverse=True)\n",
    "print(ngram_counts)"
   ]
  },
  {
   "cell_type": "markdown",
   "metadata": {},
   "source": [
    "# Aplicando BOW para visualização dos dados "
   ]
  },
  {
   "cell_type": "code",
   "execution_count": 31,
   "metadata": {},
   "outputs": [],
   "source": [
    "df_resultado = df.copy()"
   ]
  },
  {
   "cell_type": "code",
   "execution_count": 32,
   "metadata": {},
   "outputs": [],
   "source": [
    "#Transformando tudo em minusculo\n",
    "df_resultado.Competencias = df_resultado.Competencias.str.lower()"
   ]
  },
  {
   "cell_type": "code",
   "execution_count": 33,
   "metadata": {},
   "outputs": [],
   "source": [
    "def get_first(iterable, default=None):\n",
    "    if iterable:\n",
    "        for item in iterable:\n",
    "            return item\n",
    "    return default\n",
    "    \n",
    "for j in ngram_counts:\n",
    "    Item = get_first(j)\n",
    "    ItemString = ' '.join(Item)\n",
    "    df_resultado[ItemString] = df_resultado['Competencias'].apply(lambda x: 1 if ItemString in x else 0)"
   ]
  },
  {
   "cell_type": "code",
   "execution_count": 34,
   "metadata": {},
   "outputs": [
    {
     "data": {
      "text/html": [
       "<div>\n",
       "<style scoped>\n",
       "    .dataframe tbody tr th:only-of-type {\n",
       "        vertical-align: middle;\n",
       "    }\n",
       "\n",
       "    .dataframe tbody tr th {\n",
       "        vertical-align: top;\n",
       "    }\n",
       "\n",
       "    .dataframe thead th {\n",
       "        text-align: right;\n",
       "    }\n",
       "</style>\n",
       "<table border=\"1\" class=\"dataframe\">\n",
       "  <thead>\n",
       "    <tr style=\"text-align: right;\">\n",
       "      <th></th>\n",
       "      <th>Competencias</th>\n",
       "      <th>python</th>\n",
       "      <th>estatistica</th>\n",
       "      <th>analytics</th>\n",
       "      <th>relacional</th>\n",
       "      <th>bi</th>\n",
       "      <th>sintaxe</th>\n",
       "      <th>sql</th>\n",
       "      <th>dominio</th>\n",
       "      <th>marketing</th>\n",
       "      <th>tableau</th>\n",
       "    </tr>\n",
       "  </thead>\n",
       "  <tbody>\n",
       "    <tr>\n",
       "      <th>0</th>\n",
       "      <td>descricaoatividades:apoiar no processo de  ino...</td>\n",
       "      <td>0</td>\n",
       "      <td>1</td>\n",
       "      <td>1</td>\n",
       "      <td>0</td>\n",
       "      <td>1</td>\n",
       "      <td>0</td>\n",
       "      <td>0</td>\n",
       "      <td>0</td>\n",
       "      <td>0</td>\n",
       "      <td>1</td>\n",
       "    </tr>\n",
       "    <tr>\n",
       "      <th>1</th>\n",
       "      <td>descricaogente e tudo pra gente_pessoas sao o ...</td>\n",
       "      <td>1</td>\n",
       "      <td>1</td>\n",
       "      <td>0</td>\n",
       "      <td>1</td>\n",
       "      <td>1</td>\n",
       "      <td>1</td>\n",
       "      <td>1</td>\n",
       "      <td>1</td>\n",
       "      <td>0</td>\n",
       "      <td>0</td>\n",
       "    </tr>\n",
       "    <tr>\n",
       "      <th>2</th>\n",
       "      <td>descricaoa incubadora analytics e uma area da ...</td>\n",
       "      <td>1</td>\n",
       "      <td>0</td>\n",
       "      <td>1</td>\n",
       "      <td>0</td>\n",
       "      <td>0</td>\n",
       "      <td>0</td>\n",
       "      <td>0</td>\n",
       "      <td>0</td>\n",
       "      <td>0</td>\n",
       "      <td>0</td>\n",
       "    </tr>\n",
       "    <tr>\n",
       "      <th>3</th>\n",
       "      <td>descricao</td>\n",
       "      <td>0</td>\n",
       "      <td>0</td>\n",
       "      <td>0</td>\n",
       "      <td>0</td>\n",
       "      <td>0</td>\n",
       "      <td>0</td>\n",
       "      <td>0</td>\n",
       "      <td>0</td>\n",
       "      <td>0</td>\n",
       "      <td>0</td>\n",
       "    </tr>\n",
       "    <tr>\n",
       "      <th>4</th>\n",
       "      <td>descricaoa incubadora analytics e uma area da ...</td>\n",
       "      <td>1</td>\n",
       "      <td>1</td>\n",
       "      <td>1</td>\n",
       "      <td>1</td>\n",
       "      <td>1</td>\n",
       "      <td>1</td>\n",
       "      <td>1</td>\n",
       "      <td>1</td>\n",
       "      <td>0</td>\n",
       "      <td>0</td>\n",
       "    </tr>\n",
       "  </tbody>\n",
       "</table>\n",
       "</div>"
      ],
      "text/plain": [
       "                                        Competencias  python  estatistica  \\\n",
       "0  descricaoatividades:apoiar no processo de  ino...       0            1   \n",
       "1  descricaogente e tudo pra gente_pessoas sao o ...       1            1   \n",
       "2  descricaoa incubadora analytics e uma area da ...       1            0   \n",
       "3                                          descricao       0            0   \n",
       "4  descricaoa incubadora analytics e uma area da ...       1            1   \n",
       "\n",
       "   analytics  relacional  bi  sintaxe  sql  dominio  marketing  tableau  \n",
       "0          1           0   1        0    0        0          0        1  \n",
       "1          0           1   1        1    1        1          0        0  \n",
       "2          1           0   0        0    0        0          0        0  \n",
       "3          0           0   0        0    0        0          0        0  \n",
       "4          1           1   1        1    1        1          0        0  "
      ]
     },
     "execution_count": 34,
     "metadata": {},
     "output_type": "execute_result"
    }
   ],
   "source": [
    "df_resultado.head()"
   ]
  },
  {
   "cell_type": "markdown",
   "metadata": {},
   "source": [
    "# Plotando resultados"
   ]
  },
  {
   "cell_type": "code",
   "execution_count": 35,
   "metadata": {},
   "outputs": [],
   "source": [
    "df_resultado_t = df_resultado.T"
   ]
  },
  {
   "cell_type": "code",
   "execution_count": 36,
   "metadata": {},
   "outputs": [],
   "source": [
    "df_resultado2 = df_resultado.drop(columns=['Competencias'])\n",
    "col_sum = []\n",
    "\n",
    "for i in df_resultado2.columns:\n",
    "    col_sum.append(df_resultado2[i].sum())\n"
   ]
  },
  {
   "cell_type": "code",
   "execution_count": 37,
   "metadata": {},
   "outputs": [],
   "source": [
    "#definindo primeira row como nome das colunas\n",
    "df_resultado_t.columns = df_resultado_t.iloc[0]\n",
    "#dropando primeira row\n",
    "df_resultado_t = df_resultado_t.drop(df_resultado_t.index[0])\n",
    "#definindo index como nova coluna \n",
    "df_resultado_t['Competencias'] = df_resultado_t.index"
   ]
  },
  {
   "cell_type": "code",
   "execution_count": 38,
   "metadata": {},
   "outputs": [],
   "source": [
    "df_resultado_t['count'] = col_sum\n",
    "df_resultado_t['count'] = (df_resultado_t['count']/len(df_resultado)*100)"
   ]
  },
  {
   "cell_type": "code",
   "execution_count": 39,
   "metadata": {},
   "outputs": [],
   "source": [
    "df_resultado_t = df_resultado_t[['Competencias','count']].reset_index(drop=True)"
   ]
  },
  {
   "cell_type": "code",
   "execution_count": 40,
   "metadata": {},
   "outputs": [
    {
     "data": {
      "image/png": "[encoded data removed]",
      "text/plain": [
       "<Figure size 864x360 with 1 Axes>"
      ]
     },
     "metadata": {
      "needs_background": "light"
     },
     "output_type": "display_data"
    }
   ],
   "source": [
    "N = len(df_resultado_t)\n",
    "bars = df_resultado_t['count']\n",
    "\n",
    "ind = np.arange(N)  # the x locations for the groups\n",
    "width = 0.5       # the width of the bars\n",
    "\n",
    "fig, ax = plt.subplots(figsize=(12, 5))\n",
    "rects1 = ax.bar(ind, bars, width, color='r')\n",
    "\n",
    "# add some text for labels, title and axes ticks\n",
    "#ax.set_ylabel('Freq')\n",
    "ax.set_title('Frequência com que as competência apareceram nas vagas em %', FontSize= 22, color = '#01B8AA',fontname = 'Arial',fontweight = \"bold\")\n",
    "ax.set_xticks(ind)\n",
    "ax.set_xticklabels(df_resultado_t['Competencias'], fontsize= 13, rotation=20)\n",
    "ax.spines['top'].set_visible(False)\n",
    "ax.spines['right'].set_visible(False)\n",
    "ax.spines['bottom'].set_visible(False)\n",
    "ax.spines['left'].set_visible(False)\n",
    "\n",
    "def autolabel(rects, ax):\n",
    "    # Get y-axis height to calculate label position from.\n",
    "    (y_bottom, y_top) = ax.get_ylim()\n",
    "    y_height = y_top - y_bottom\n",
    "\n",
    "    for rect in rects:\n",
    "        height = rect.get_height()\n",
    "\n",
    "        # Fraction of axis height taken up by this rectangle\n",
    "        p_height = (height / y_height)\n",
    "\n",
    "        # If we can fit the label above the column, do that;\n",
    "        # otherwise, put it inside the column.\n",
    "        if p_height > 0.95: # arbitrary; 95% looked good to me.\n",
    "            label_position = height - (y_height * 0.05)\n",
    "        else:\n",
    "            label_position = height + (y_height * 0.01)\n",
    "\n",
    "        ax.text(rect.get_x() + rect.get_width()/2., label_position,\n",
    "                round(height,2),  #Round displayed number\n",
    "                ha='center', va='bottom')\n",
    "\n",
    "autolabel(rects1, ax)\n",
    "\n",
    "plt.show()"
   ]
  },
  {
   "cell_type": "code",
   "execution_count": null,
   "metadata": {},
   "outputs": [],
   "source": []
  }
 ],
 "metadata": {
  "kernelspec": {
   "display_name": "Python 3",
   "language": "python",
   "name": "python3"
  },
  "language_info": {
   "codemirror_mode": {
    "name": "ipython",
    "version": 3
   },
   "file_extension": ".py",
   "mimetype": "text/x-python",
   "name": "python",
   "nbconvert_exporter": "python",
   "pygments_lexer": "ipython3",
   "version": "3.7.4"
  }
 },
 "nbformat": 4,
 "nbformat_minor": 4
}
